{
 "cells": [
  {
   "cell_type": "code",
   "execution_count": 1,
   "id": "7d8d030b",
   "metadata": {},
   "outputs": [],
   "source": []
  },
  {
   "cell_type": "code",
   "execution_count": 7,
   "id": "c8f8d528",
   "metadata": {},
   "outputs": [],
   "source": [
    "import requests\n",
    "from bs4 import BeautifulSoup\n",
    "import pandas as pd\n",
    "import requests\n",
    "import re\n",
    "\n"
   ]
  },
  {
   "cell_type": "code",
   "execution_count": 3,
   "id": "cb74a2e2",
   "metadata": {},
   "outputs": [],
   "source": [
    "url = \"https://www.murallasport.com/29-zapatillas-moda-mujer\"\n"
   ]
  },
  {
   "cell_type": "code",
   "execution_count": 5,
   "id": "511988cd",
   "metadata": {},
   "outputs": [],
   "source": [
    "\"\"\"\n",
    "- name \n",
    "- brand \n",
    "- price \n",
    "- link\n",
    "\n",
    "- description \"\"\""
   ]
  },
  {
   "cell_type": "code",
   "execution_count": 8,
   "id": "b8f849aa",
   "metadata": {},
   "outputs": [],
   "source": [
    "res = "
   ]
  },
  {
   "cell_type": "code",
   "execution_count": 10,
   "id": "18f08f2a",
   "metadata": {},
   "outputs": [],
   "source": [
    "soup = BeautifulSoup(requests.get(url).content, 'html.parser')"
   ]
  },
  {
   "cell_type": "code",
   "execution_count": 41,
   "id": "cb1083ad",
   "metadata": {},
   "outputs": [
    {
     "data": {
      "text/plain": [
       "<div class=\"name_product_box\">\n",
       "<span><a href=\"/producto/4958-zapatilla-nike-waffle-debut-beige\">Zapatilla Nike Waffle Debut Beige</a></span>\n",
       "</div>"
      ]
     },
     "execution_count": 41,
     "metadata": {},
     "output_type": "execute_result"
    }
   ],
   "source": [
    "name = soup.find_all('div', attrs = {\"class\":\"name_product_box\"})\n",
    "name[2]"
   ]
  },
  {
   "cell_type": "code",
   "execution_count": 14,
   "id": "73e91075",
   "metadata": {},
   "outputs": [
    {
     "data": {
      "text/plain": [
       "'Zapatilla Nike Waffle Debut Beige'"
      ]
     },
     "execution_count": 14,
     "metadata": {},
     "output_type": "execute_result"
    }
   ],
   "source": [
    "products[2].getText().strip()"
   ]
  },
  {
   "cell_type": "code",
   "execution_count": 16,
   "id": "81ada637",
   "metadata": {},
   "outputs": [
    {
     "data": {
      "text/plain": [
       "'Zapatilla Nike WAFFLE DEBUT'"
      ]
     },
     "execution_count": 16,
     "metadata": {},
     "output_type": "execute_result"
    }
   ],
   "source": [
    "all_products = [element.getText().strip() for element in products]\n",
    "all_products[5]"
   ]
  },
  {
   "cell_type": "code",
   "execution_count": 20,
   "id": "f4837f13",
   "metadata": {},
   "outputs": [
    {
     "data": {
      "text/plain": [
       "[<span class=\"marca-product-box\">NIKE </span>,\n",
       " <span class=\"marca-product-box\">NIKE </span>,\n",
       " <span class=\"marca-product-box\">NIKE </span>,\n",
       " <span class=\"marca-product-box\">NIKE </span>,\n",
       " <span class=\"marca-product-box\">NIKE </span>,\n",
       " <span class=\"marca-product-box\">NIKE </span>,\n",
       " <span class=\"marca-product-box\">NEW BALANCE </span>,\n",
       " <span class=\"marca-product-box\">NEW BALANCE </span>,\n",
       " <span class=\"marca-product-box\">NEW BALANCE </span>,\n",
       " <span class=\"marca-product-box\">NEW BALANCE </span>,\n",
       " <span class=\"marca-product-box\">NEW BALANCE </span>,\n",
       " <span class=\"marca-product-box\">NEW BALANCE </span>,\n",
       " <span class=\"marca-product-box\">NEW BALANCE </span>,\n",
       " <span class=\"marca-product-box\">NEW BALANCE </span>,\n",
       " <span class=\"marca-product-box\">NEW BALANCE </span>,\n",
       " <span class=\"marca-product-box\">NEW BALANCE </span>,\n",
       " <span class=\"marca-product-box\">NEW BALANCE </span>,\n",
       " <span class=\"marca-product-box\">NEW BALANCE </span>,\n",
       " <span class=\"marca-product-box\">NEW BALANCE </span>,\n",
       " <span class=\"marca-product-box\">NEW BALANCE </span>,\n",
       " <span class=\"marca-product-box\">CONVERSE </span>,\n",
       " <span class=\"marca-product-box\">CONVERSE </span>,\n",
       " <span class=\"marca-product-box\">CONVERSE </span>,\n",
       " <span class=\"marca-product-box\">CONVERSE </span>]"
      ]
     },
     "execution_count": 20,
     "metadata": {},
     "output_type": "execute_result"
    }
   ],
   "source": [
    "products_2 = soup.select(\"span.marca-product-box\")\n",
    "products_2"
   ]
  },
  {
   "cell_type": "code",
   "execution_count": 23,
   "id": "f37c1490",
   "metadata": {},
   "outputs": [
    {
     "data": {
      "text/plain": [
       "'NIKE'"
      ]
     },
     "execution_count": 23,
     "metadata": {},
     "output_type": "execute_result"
    }
   ],
   "source": [
    "brand_select = soup.select(\"span.marca-product-box\")\n",
    "brand = [element.getText().strip() for element in brand_select]\n",
    "brand[0]"
   ]
  },
  {
   "cell_type": "code",
   "execution_count": 27,
   "id": "105f8f6d",
   "metadata": {},
   "outputs": [
    {
     "data": {
      "text/plain": [
       "['63.00€\\n70.00€',\n",
       " '69.99€',\n",
       " '70.00€',\n",
       " '70.00€',\n",
       " '70.00€',\n",
       " '70.00€',\n",
       " '69.97€\\n99.95€',\n",
       " '76.46€\\n84.95€',\n",
       " '76.46€\\n84.95€',\n",
       " '79.96€\\n99.95€',\n",
       " '80.00€\\n100.00€',\n",
       " '89.00€\\n100.00€',\n",
       " '99.95€',\n",
       " '108.00€\\n120.00€',\n",
       " '109.99€',\n",
       " '110.00€',\n",
       " '110.00€',\n",
       " '110.00€',\n",
       " '119.95€',\n",
       " '120.00€',\n",
       " '75.00€',\n",
       " '75.00€',\n",
       " '81.00€\\n90.00€',\n",
       " '82.80€\\n90.00€']"
      ]
     },
     "execution_count": 27,
     "metadata": {},
     "output_type": "execute_result"
    }
   ],
   "source": [
    "price_find = soup.find_all('div', attrs = {'class':\"price_product_box\"})\n",
    "price = [element.getText().strip() for element in price_find]\n",
    "price"
   ]
  },
  {
   "cell_type": "code",
   "execution_count": 30,
   "id": "98fa4b84",
   "metadata": {},
   "outputs": [
    {
     "data": {
      "text/plain": [
       "'63.00€'"
      ]
     },
     "execution_count": 30,
     "metadata": {},
     "output_type": "execute_result"
    }
   ],
   "source": [
    "new_list = []\n",
    "for money in price: \n",
    "    if '\\n' in money:\n",
    "        new_list.append(money.split('\\n')[0])\n",
    "    else:\n",
    "        new_list.append(money)\n",
    "new_list[0]"
   ]
  },
  {
   "cell_type": "code",
   "execution_count": 44,
   "id": "3e633b5b",
   "metadata": {},
   "outputs": [
    {
     "data": {
      "text/plain": [
       "<a href=\"/producto/4477-zapatilla-nike-waffle-debut-rosa\">Zapatilla Nike WAFFLE DEBUT Rosa</a>"
      ]
     },
     "execution_count": 44,
     "metadata": {},
     "output_type": "execute_result"
    }
   ],
   "source": [
    "links = soup.find_all('div',{'class':'name_product_box'})\n",
    "links[0].find_all('a')[0]"
   ]
  },
  {
   "cell_type": "code",
   "execution_count": 45,
   "id": "b568fd5d",
   "metadata": {},
   "outputs": [
    {
     "data": {
      "text/plain": [
       "'/producto/4477-zapatilla-nike-waffle-debut-rosa'"
      ]
     },
     "execution_count": 45,
     "metadata": {},
     "output_type": "execute_result"
    }
   ],
   "source": [
    "links[0].find('a').get(\"href\")"
   ]
  },
  {
   "cell_type": "code",
   "execution_count": null,
   "id": "21e052cc",
   "metadata": {},
   "outputs": [],
   "source": []
  },
  {
   "cell_type": "code",
   "execution_count": 46,
   "id": "2cbc9bbd",
   "metadata": {},
   "outputs": [],
   "source": [
    "dictionary = {\n",
    "    \"names\":name,\n",
    "    \"brand\":brand,\n",
    "    \"price\":new_list,\n",
    "    \"links\":links\n",
    "}"
   ]
  },
  {
   "cell_type": "code",
   "execution_count": null,
   "id": "b83529d0",
   "metadata": {},
   "outputs": [],
   "source": []
  },
  {
   "cell_type": "code",
   "execution_count": null,
   "id": "71bc8975",
   "metadata": {},
   "outputs": [],
   "source": []
  },
  {
   "cell_type": "code",
   "execution_count": null,
   "id": "d927db0b",
   "metadata": {},
   "outputs": [],
   "source": []
  },
  {
   "cell_type": "code",
   "execution_count": null,
   "id": "f19dc5a6",
   "metadata": {},
   "outputs": [],
   "source": []
  },
  {
   "cell_type": "code",
   "execution_count": null,
   "id": "db766c58",
   "metadata": {},
   "outputs": [],
   "source": []
  },
  {
   "cell_type": "code",
   "execution_count": null,
   "id": "0c3e16f6",
   "metadata": {},
   "outputs": [],
   "source": []
  },
  {
   "cell_type": "code",
   "execution_count": null,
   "id": "f2f60c86",
   "metadata": {},
   "outputs": [],
   "source": []
  },
  {
   "cell_type": "code",
   "execution_count": null,
   "id": "84cb866f",
   "metadata": {},
   "outputs": [],
   "source": []
  }
 ],
 "metadata": {
  "kernelspec": {
   "display_name": "Python 3 (ipykernel)",
   "language": "python",
   "name": "python3"
  },
  "language_info": {
   "codemirror_mode": {
    "name": "ipython",
    "version": 3
   },
   "file_extension": ".py",
   "mimetype": "text/x-python",
   "name": "python",
   "nbconvert_exporter": "python",
   "pygments_lexer": "ipython3",
   "version": "3.9.7"
  }
 },
 "nbformat": 4,
 "nbformat_minor": 5
}
