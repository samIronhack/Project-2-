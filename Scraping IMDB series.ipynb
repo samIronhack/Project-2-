{
 "cells": [
  {
   "cell_type": "markdown",
   "id": "44141df4",
   "metadata": {},
   "source": [
    "sources used for the data\n",
    "\n",
    "\n",
    "On IMBD I want to find the best tv shows and then determine which streaming platform is the best to become a member of\n",
    "\n",
    "- Title\n",
    "- Rating\n",
    "- Release date\n",
    "- Director"
   ]
  },
  {
   "cell_type": "markdown",
   "id": "0778aac6",
   "metadata": {},
   "source": [
    "Import all the neccesary libraries "
   ]
  },
  {
   "cell_type": "code",
   "execution_count": 1,
   "id": "dcbe169d",
   "metadata": {},
   "outputs": [],
   "source": [
    "import requests\n",
    "from bs4 import BeautifulSoup\n",
    "import pandas as pd\n",
    "import requests\n",
    "import re"
   ]
  },
  {
   "cell_type": "code",
   "execution_count": 2,
   "id": "c72a4fa6",
   "metadata": {},
   "outputs": [],
   "source": [
    "url = \"https://www.imdb.com/chart/toptv\"\n",
    "res = requests.get(url)\n",
    "soup = BeautifulSoup(res.content, \"html.parser\")"
   ]
  },
  {
   "cell_type": "markdown",
   "id": "ffaa3a5c",
   "metadata": {},
   "source": [
    "Get the title of the series in the top 250"
   ]
  },
  {
   "cell_type": "code",
   "execution_count": 3,
   "id": "5393ecd0",
   "metadata": {},
   "outputs": [],
   "source": [
    "titles = soup.select(\"td.titleColumn a\")\n",
    "series = [i.get_text() for i in titles]"
   ]
  },
  {
   "cell_type": "markdown",
   "id": "ecc8f868",
   "metadata": {},
   "source": [
    "Get the rating of the series "
   ]
  },
  {
   "cell_type": "code",
   "execution_count": 4,
   "id": "49c5b4da",
   "metadata": {},
   "outputs": [],
   "source": [
    "get_rating = soup.select(\"td.ratingColumn strong\")\n",
    "rating = [i.get_text() for i in get_rating]"
   ]
  },
  {
   "cell_type": "code",
   "execution_count": 5,
   "id": "0e870eae",
   "metadata": {},
   "outputs": [
    {
     "data": {
      "text/plain": [
       "'2016'"
      ]
     },
     "execution_count": 5,
     "metadata": {},
     "output_type": "execute_result"
    }
   ],
   "source": [
    "release_date = soup.select(\"td.titleColumn span\")\n",
    "year = [element.get_text()[1:-1] for element in release_date]\n",
    "year[0]"
   ]
  },
  {
   "cell_type": "markdown",
   "id": "32dc1733",
   "metadata": {},
   "source": [
    "Find the directors "
   ]
  },
  {
   "cell_type": "code",
   "execution_count": 6,
   "id": "b823dc5a",
   "metadata": {},
   "outputs": [],
   "source": [
    "find_director = soup.select(\"td.titleColumn a\")\n",
    "director = [element.get(\"title\").split(\"(dir.),\")[0].strip() for element in find_director]"
   ]
  },
  {
   "cell_type": "markdown",
   "id": "ecd83468",
   "metadata": {},
   "source": [
    "create the set-up for the dataframe (dictonary form)"
   ]
  },
  {
   "cell_type": "code",
   "execution_count": 7,
   "id": "d67a7b8c",
   "metadata": {},
   "outputs": [],
   "source": [
    "IMDB = {\n",
    "    \"Title\":series,\n",
    "    \"Rating\":rating,\n",
    "    \"Year\":year,\n",
    "    \"Director\": director,\n",
    "}"
   ]
  },
  {
   "cell_type": "markdown",
   "id": "ada4c0ac",
   "metadata": {},
   "source": [
    "Create the dataframe \n",
    "Set the title to .lower(). this makes doing the match later on easier as all characters will be .lower(). "
   ]
  },
  {
   "cell_type": "code",
   "execution_count": 8,
   "id": "37657fa4",
   "metadata": {},
   "outputs": [],
   "source": [
    "IMDB_df = pd.DataFrame(IMDB)\n",
    "IMDB_df['Title'] = IMDB_df['Title'].str.lower()"
   ]
  },
  {
   "cell_type": "code",
   "execution_count": 9,
   "id": "95ccc92c",
   "metadata": {},
   "outputs": [
    {
     "data": {
      "text/html": [
       "<div>\n",
       "<style scoped>\n",
       "    .dataframe tbody tr th:only-of-type {\n",
       "        vertical-align: middle;\n",
       "    }\n",
       "\n",
       "    .dataframe tbody tr th {\n",
       "        vertical-align: top;\n",
       "    }\n",
       "\n",
       "    .dataframe thead th {\n",
       "        text-align: right;\n",
       "    }\n",
       "</style>\n",
       "<table border=\"1\" class=\"dataframe\">\n",
       "  <thead>\n",
       "    <tr style=\"text-align: right;\">\n",
       "      <th></th>\n",
       "      <th>Title</th>\n",
       "      <th>Rating</th>\n",
       "      <th>Year</th>\n",
       "      <th>Director</th>\n",
       "    </tr>\n",
       "  </thead>\n",
       "  <tbody>\n",
       "    <tr>\n",
       "      <th>0</th>\n",
       "      <td>planet earth ii</td>\n",
       "      <td>9.4</td>\n",
       "      <td>2016</td>\n",
       "      <td>David Attenborough, Chadden Hunter</td>\n",
       "    </tr>\n",
       "    <tr>\n",
       "      <th>1</th>\n",
       "      <td>breaking bad</td>\n",
       "      <td>9.4</td>\n",
       "      <td>2008</td>\n",
       "      <td>Bryan Cranston, Aaron Paul</td>\n",
       "    </tr>\n",
       "    <tr>\n",
       "      <th>2</th>\n",
       "      <td>planet earth</td>\n",
       "      <td>9.4</td>\n",
       "      <td>2006</td>\n",
       "      <td>Sigourney Weaver, David Attenborough</td>\n",
       "    </tr>\n",
       "    <tr>\n",
       "      <th>3</th>\n",
       "      <td>band of brothers</td>\n",
       "      <td>9.4</td>\n",
       "      <td>2001</td>\n",
       "      <td>Scott Grimes, Damian Lewis</td>\n",
       "    </tr>\n",
       "    <tr>\n",
       "      <th>4</th>\n",
       "      <td>chernobyl</td>\n",
       "      <td>9.3</td>\n",
       "      <td>2019</td>\n",
       "      <td>Jessie Buckley, Jared Harris</td>\n",
       "    </tr>\n",
       "    <tr>\n",
       "      <th>...</th>\n",
       "      <td>...</td>\n",
       "      <td>...</td>\n",
       "      <td>...</td>\n",
       "      <td>...</td>\n",
       "    </tr>\n",
       "    <tr>\n",
       "      <th>245</th>\n",
       "      <td>clannad: after story</td>\n",
       "      <td>8.4</td>\n",
       "      <td>2008</td>\n",
       "      <td>Yûichi Nakamura, David Matranga</td>\n",
       "    </tr>\n",
       "    <tr>\n",
       "      <th>246</th>\n",
       "      <td>ozark</td>\n",
       "      <td>8.4</td>\n",
       "      <td>2017</td>\n",
       "      <td>Jason Bateman, Laura Linney</td>\n",
       "    </tr>\n",
       "    <tr>\n",
       "      <th>247</th>\n",
       "      <td>gintama</td>\n",
       "      <td>8.4</td>\n",
       "      <td>2005</td>\n",
       "      <td>Tomokazu Sugita, Daisuke Sakaguchi</td>\n",
       "    </tr>\n",
       "    <tr>\n",
       "      <th>248</th>\n",
       "      <td>foyle's war</td>\n",
       "      <td>8.4</td>\n",
       "      <td>2002</td>\n",
       "      <td>Michael Kitchen, Honeysuckle Weeks</td>\n",
       "    </tr>\n",
       "    <tr>\n",
       "      <th>249</th>\n",
       "      <td>harley quinn</td>\n",
       "      <td>8.4</td>\n",
       "      <td>2019</td>\n",
       "      <td>Kaley Cuoco, Lake Bell</td>\n",
       "    </tr>\n",
       "  </tbody>\n",
       "</table>\n",
       "<p>250 rows × 4 columns</p>\n",
       "</div>"
      ],
      "text/plain": [
       "                    Title Rating  Year                              Director\n",
       "0         planet earth ii    9.4  2016    David Attenborough, Chadden Hunter\n",
       "1            breaking bad    9.4  2008            Bryan Cranston, Aaron Paul\n",
       "2            planet earth    9.4  2006  Sigourney Weaver, David Attenborough\n",
       "3        band of brothers    9.4  2001            Scott Grimes, Damian Lewis\n",
       "4               chernobyl    9.3  2019          Jessie Buckley, Jared Harris\n",
       "..                    ...    ...   ...                                   ...\n",
       "245  clannad: after story    8.4  2008       Yûichi Nakamura, David Matranga\n",
       "246                 ozark    8.4  2017           Jason Bateman, Laura Linney\n",
       "247               gintama    8.4  2005    Tomokazu Sugita, Daisuke Sakaguchi\n",
       "248           foyle's war    8.4  2002    Michael Kitchen, Honeysuckle Weeks\n",
       "249          harley quinn    8.4  2019                Kaley Cuoco, Lake Bell\n",
       "\n",
       "[250 rows x 4 columns]"
      ]
     },
     "execution_count": 9,
     "metadata": {},
     "output_type": "execute_result"
    }
   ],
   "source": [
    "IMDB_df"
   ]
  },
  {
   "cell_type": "markdown",
   "id": "ed5a1204",
   "metadata": {},
   "source": [
    "Set Title as index for the merge"
   ]
  },
  {
   "cell_type": "code",
   "execution_count": 10,
   "id": "bc8c6980",
   "metadata": {},
   "outputs": [],
   "source": [
    "IMDB_df = IMDB_df.set_index(\"Title\")"
   ]
  },
  {
   "cell_type": "markdown",
   "id": "3dbded63",
   "metadata": {},
   "source": [
    "I want to add the genre to the dataframe "
   ]
  },
  {
   "cell_type": "code",
   "execution_count": 11,
   "id": "164dfb58",
   "metadata": {},
   "outputs": [],
   "source": [
    "IMDB_series_df = IMDB_df\n",
    "IMDB_series_df.to_csv(\"IMDB_serie.csv\", index=True)"
   ]
  },
  {
   "cell_type": "markdown",
   "id": "4bee958b",
   "metadata": {},
   "source": [
    "fixed the language issue by using ExpressVPN"
   ]
  }
 ],
 "metadata": {
  "kernelspec": {
   "display_name": "Python 3 (ipykernel)",
   "language": "python",
   "name": "python3"
  },
  "language_info": {
   "codemirror_mode": {
    "name": "ipython",
    "version": 3
   },
   "file_extension": ".py",
   "mimetype": "text/x-python",
   "name": "python",
   "nbconvert_exporter": "python",
   "pygments_lexer": "ipython3",
   "version": "3.9.7"
  }
 },
 "nbformat": 4,
 "nbformat_minor": 5
}
