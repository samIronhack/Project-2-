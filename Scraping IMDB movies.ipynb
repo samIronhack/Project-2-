{
 "cells": [
  {
   "cell_type": "markdown",
   "id": "2be2a093",
   "metadata": {},
   "source": [
    "sources used for the data\n",
    "\n",
    "On IMBD I want to find the best movies and then determine which streaming platform is the best to become a member of\n",
    "\n",
    "- Title\n",
    "- Rating\n",
    "- Release date\n",
    "- Director"
   ]
  },
  {
   "cell_type": "markdown",
   "id": "11404379",
   "metadata": {},
   "source": [
    "Import all the neccesary libraries "
   ]
  },
  {
   "cell_type": "code",
   "execution_count": 1,
   "id": "917cb222",
   "metadata": {},
   "outputs": [],
   "source": [
    "import requests\n",
    "from bs4 import BeautifulSoup\n",
    "import pandas as pd\n",
    "import requests\n",
    "import re"
   ]
  },
  {
   "cell_type": "code",
   "execution_count": 2,
   "id": "086c11e7",
   "metadata": {},
   "outputs": [],
   "source": [
    "url = \"https://www.imdb.com/chart/top/\"\n",
    "res = requests.get(url)\n",
    "soup = BeautifulSoup(res.content, \"html.parser\")"
   ]
  },
  {
   "cell_type": "markdown",
   "id": "ee390564",
   "metadata": {},
   "source": [
    "Get the title of the movies in the top 250"
   ]
  },
  {
   "cell_type": "code",
   "execution_count": 3,
   "id": "8c0aac0d",
   "metadata": {},
   "outputs": [],
   "source": [
    "title = soup.select(\"td.titleColumn a\")\n",
    "movie_name = [i.get_text() for i in title]"
   ]
  },
  {
   "cell_type": "markdown",
   "id": "d2b473f7",
   "metadata": {},
   "source": [
    "Get the rating of the movie "
   ]
  },
  {
   "cell_type": "code",
   "execution_count": 4,
   "id": "95865c6d",
   "metadata": {},
   "outputs": [],
   "source": [
    "get_rating = soup.select(\"td.ratingColumn strong\")\n",
    "rating = [i.get_text() for i in get_rating]"
   ]
  },
  {
   "cell_type": "code",
   "execution_count": 5,
   "id": "429b7df6",
   "metadata": {},
   "outputs": [
    {
     "data": {
      "text/plain": [
       "'1994'"
      ]
     },
     "execution_count": 5,
     "metadata": {},
     "output_type": "execute_result"
    }
   ],
   "source": [
    "release_date = soup.select(\"td.titleColumn span\")\n",
    "year = [element.get_text()[1:-1] for element in release_date]\n",
    "year[0]"
   ]
  },
  {
   "cell_type": "markdown",
   "id": "bf3f6483",
   "metadata": {},
   "source": [
    "Find the directors "
   ]
  },
  {
   "cell_type": "code",
   "execution_count": 6,
   "id": "7b3031e1",
   "metadata": {},
   "outputs": [],
   "source": [
    "find_director = soup.select(\"td.titleColumn a\")\n",
    "director = [element.get(\"title\").split(\"(dir.),\")[0].strip() for element in find_director]"
   ]
  },
  {
   "cell_type": "code",
   "execution_count": 7,
   "id": "b18f0b9c",
   "metadata": {},
   "outputs": [],
   "source": [
    "IMDB_movies = {\n",
    "    \"Title\":movie_name,\n",
    "    \"Rating\":rating,\n",
    "    \"Year\":year,\n",
    "    \"Director\": director,\n",
    "}"
   ]
  },
  {
   "cell_type": "code",
   "execution_count": 8,
   "id": "b55f2583",
   "metadata": {},
   "outputs": [
    {
     "data": {
      "text/html": [
       "<div>\n",
       "<style scoped>\n",
       "    .dataframe tbody tr th:only-of-type {\n",
       "        vertical-align: middle;\n",
       "    }\n",
       "\n",
       "    .dataframe tbody tr th {\n",
       "        vertical-align: top;\n",
       "    }\n",
       "\n",
       "    .dataframe thead th {\n",
       "        text-align: right;\n",
       "    }\n",
       "</style>\n",
       "<table border=\"1\" class=\"dataframe\">\n",
       "  <thead>\n",
       "    <tr style=\"text-align: right;\">\n",
       "      <th></th>\n",
       "      <th>Title</th>\n",
       "      <th>Rating</th>\n",
       "      <th>Year</th>\n",
       "      <th>Director</th>\n",
       "    </tr>\n",
       "  </thead>\n",
       "  <tbody>\n",
       "    <tr>\n",
       "      <th>0</th>\n",
       "      <td>The Shawshank Redemption</td>\n",
       "      <td>9.2</td>\n",
       "      <td>1994</td>\n",
       "      <td>Frank Darabont</td>\n",
       "    </tr>\n",
       "    <tr>\n",
       "      <th>1</th>\n",
       "      <td>The Godfather</td>\n",
       "      <td>9.2</td>\n",
       "      <td>1972</td>\n",
       "      <td>Francis Ford Coppola</td>\n",
       "    </tr>\n",
       "    <tr>\n",
       "      <th>2</th>\n",
       "      <td>The Dark Knight</td>\n",
       "      <td>9.0</td>\n",
       "      <td>2008</td>\n",
       "      <td>Christopher Nolan</td>\n",
       "    </tr>\n",
       "    <tr>\n",
       "      <th>3</th>\n",
       "      <td>The Godfather Part II</td>\n",
       "      <td>9.0</td>\n",
       "      <td>1974</td>\n",
       "      <td>Francis Ford Coppola</td>\n",
       "    </tr>\n",
       "    <tr>\n",
       "      <th>4</th>\n",
       "      <td>12 Angry Men</td>\n",
       "      <td>8.9</td>\n",
       "      <td>1957</td>\n",
       "      <td>Sidney Lumet</td>\n",
       "    </tr>\n",
       "    <tr>\n",
       "      <th>...</th>\n",
       "      <td>...</td>\n",
       "      <td>...</td>\n",
       "      <td>...</td>\n",
       "      <td>...</td>\n",
       "    </tr>\n",
       "    <tr>\n",
       "      <th>245</th>\n",
       "      <td>Gandhi</td>\n",
       "      <td>8.0</td>\n",
       "      <td>1982</td>\n",
       "      <td>Richard Attenborough</td>\n",
       "    </tr>\n",
       "    <tr>\n",
       "      <th>246</th>\n",
       "      <td>Aladdin</td>\n",
       "      <td>8.0</td>\n",
       "      <td>1992</td>\n",
       "      <td>Ron Clements</td>\n",
       "    </tr>\n",
       "    <tr>\n",
       "      <th>247</th>\n",
       "      <td>The Help</td>\n",
       "      <td>8.0</td>\n",
       "      <td>2011</td>\n",
       "      <td>Tate Taylor</td>\n",
       "    </tr>\n",
       "    <tr>\n",
       "      <th>248</th>\n",
       "      <td>Jai Bhim</td>\n",
       "      <td>8.0</td>\n",
       "      <td>2021</td>\n",
       "      <td>T.J. Gnanavel</td>\n",
       "    </tr>\n",
       "    <tr>\n",
       "      <th>249</th>\n",
       "      <td>Beauty and the Beast</td>\n",
       "      <td>8.0</td>\n",
       "      <td>1991</td>\n",
       "      <td>Gary Trousdale</td>\n",
       "    </tr>\n",
       "  </tbody>\n",
       "</table>\n",
       "<p>250 rows × 4 columns</p>\n",
       "</div>"
      ],
      "text/plain": [
       "                        Title Rating  Year              Director\n",
       "0    The Shawshank Redemption    9.2  1994        Frank Darabont\n",
       "1               The Godfather    9.2  1972  Francis Ford Coppola\n",
       "2             The Dark Knight    9.0  2008     Christopher Nolan\n",
       "3       The Godfather Part II    9.0  1974  Francis Ford Coppola\n",
       "4                12 Angry Men    8.9  1957          Sidney Lumet\n",
       "..                        ...    ...   ...                   ...\n",
       "245                    Gandhi    8.0  1982  Richard Attenborough\n",
       "246                   Aladdin    8.0  1992          Ron Clements\n",
       "247                  The Help    8.0  2011           Tate Taylor\n",
       "248                  Jai Bhim    8.0  2021         T.J. Gnanavel\n",
       "249      Beauty and the Beast    8.0  1991        Gary Trousdale\n",
       "\n",
       "[250 rows x 4 columns]"
      ]
     },
     "execution_count": 8,
     "metadata": {},
     "output_type": "execute_result"
    }
   ],
   "source": [
    "IMDB_df = pd.DataFrame(IMDB_movies)\n",
    "IMDB_df"
   ]
  },
  {
   "cell_type": "code",
   "execution_count": 9,
   "id": "d8819737",
   "metadata": {},
   "outputs": [],
   "source": [
    "IMDB_df['Title'] = IMDB_df['Title'].str.lower()\n"
   ]
  },
  {
   "cell_type": "markdown",
   "id": "6fb254de",
   "metadata": {},
   "source": [
    "Set Title as index for merge"
   ]
  },
  {
   "cell_type": "code",
   "execution_count": 10,
   "id": "d8e0ea21",
   "metadata": {},
   "outputs": [],
   "source": [
    "IMDB_df = IMDB_df.set_index(\"Title\")"
   ]
  },
  {
   "cell_type": "markdown",
   "id": "ad2f2ec2",
   "metadata": {},
   "source": [
    "Renaming the df for the merge document later on "
   ]
  },
  {
   "cell_type": "code",
   "execution_count": 11,
   "id": "c1109813",
   "metadata": {},
   "outputs": [],
   "source": [
    "IMDB_movies_df = IMDB_df\n",
    "IMDB_movies_df.to_csv(\"IMDB_movie.csv\", index=True)\n"
   ]
  },
  {
   "cell_type": "code",
   "execution_count": 12,
   "id": "4bea3c93",
   "metadata": {},
   "outputs": [
    {
     "data": {
      "text/html": [
       "<div>\n",
       "<style scoped>\n",
       "    .dataframe tbody tr th:only-of-type {\n",
       "        vertical-align: middle;\n",
       "    }\n",
       "\n",
       "    .dataframe tbody tr th {\n",
       "        vertical-align: top;\n",
       "    }\n",
       "\n",
       "    .dataframe thead th {\n",
       "        text-align: right;\n",
       "    }\n",
       "</style>\n",
       "<table border=\"1\" class=\"dataframe\">\n",
       "  <thead>\n",
       "    <tr style=\"text-align: right;\">\n",
       "      <th></th>\n",
       "      <th>Rating</th>\n",
       "      <th>Year</th>\n",
       "      <th>Director</th>\n",
       "    </tr>\n",
       "    <tr>\n",
       "      <th>Title</th>\n",
       "      <th></th>\n",
       "      <th></th>\n",
       "      <th></th>\n",
       "    </tr>\n",
       "  </thead>\n",
       "  <tbody>\n",
       "    <tr>\n",
       "      <th>the shawshank redemption</th>\n",
       "      <td>9.2</td>\n",
       "      <td>1994</td>\n",
       "      <td>Frank Darabont</td>\n",
       "    </tr>\n",
       "    <tr>\n",
       "      <th>the godfather</th>\n",
       "      <td>9.2</td>\n",
       "      <td>1972</td>\n",
       "      <td>Francis Ford Coppola</td>\n",
       "    </tr>\n",
       "    <tr>\n",
       "      <th>the dark knight</th>\n",
       "      <td>9.0</td>\n",
       "      <td>2008</td>\n",
       "      <td>Christopher Nolan</td>\n",
       "    </tr>\n",
       "    <tr>\n",
       "      <th>the godfather part ii</th>\n",
       "      <td>9.0</td>\n",
       "      <td>1974</td>\n",
       "      <td>Francis Ford Coppola</td>\n",
       "    </tr>\n",
       "    <tr>\n",
       "      <th>12 angry men</th>\n",
       "      <td>8.9</td>\n",
       "      <td>1957</td>\n",
       "      <td>Sidney Lumet</td>\n",
       "    </tr>\n",
       "    <tr>\n",
       "      <th>...</th>\n",
       "      <td>...</td>\n",
       "      <td>...</td>\n",
       "      <td>...</td>\n",
       "    </tr>\n",
       "    <tr>\n",
       "      <th>gandhi</th>\n",
       "      <td>8.0</td>\n",
       "      <td>1982</td>\n",
       "      <td>Richard Attenborough</td>\n",
       "    </tr>\n",
       "    <tr>\n",
       "      <th>aladdin</th>\n",
       "      <td>8.0</td>\n",
       "      <td>1992</td>\n",
       "      <td>Ron Clements</td>\n",
       "    </tr>\n",
       "    <tr>\n",
       "      <th>the help</th>\n",
       "      <td>8.0</td>\n",
       "      <td>2011</td>\n",
       "      <td>Tate Taylor</td>\n",
       "    </tr>\n",
       "    <tr>\n",
       "      <th>jai bhim</th>\n",
       "      <td>8.0</td>\n",
       "      <td>2021</td>\n",
       "      <td>T.J. Gnanavel</td>\n",
       "    </tr>\n",
       "    <tr>\n",
       "      <th>beauty and the beast</th>\n",
       "      <td>8.0</td>\n",
       "      <td>1991</td>\n",
       "      <td>Gary Trousdale</td>\n",
       "    </tr>\n",
       "  </tbody>\n",
       "</table>\n",
       "<p>250 rows × 3 columns</p>\n",
       "</div>"
      ],
      "text/plain": [
       "                         Rating  Year              Director\n",
       "Title                                                      \n",
       "the shawshank redemption    9.2  1994        Frank Darabont\n",
       "the godfather               9.2  1972  Francis Ford Coppola\n",
       "the dark knight             9.0  2008     Christopher Nolan\n",
       "the godfather part ii       9.0  1974  Francis Ford Coppola\n",
       "12 angry men                8.9  1957          Sidney Lumet\n",
       "...                         ...   ...                   ...\n",
       "gandhi                      8.0  1982  Richard Attenborough\n",
       "aladdin                     8.0  1992          Ron Clements\n",
       "the help                    8.0  2011           Tate Taylor\n",
       "jai bhim                    8.0  2021         T.J. Gnanavel\n",
       "beauty and the beast        8.0  1991        Gary Trousdale\n",
       "\n",
       "[250 rows x 3 columns]"
      ]
     },
     "execution_count": 12,
     "metadata": {},
     "output_type": "execute_result"
    }
   ],
   "source": [
    "IMDB_df"
   ]
  },
  {
   "cell_type": "markdown",
   "id": "d1b9d941",
   "metadata": {},
   "source": [
    "fixed the language issue by using ExpressVPN"
   ]
  }
 ],
 "metadata": {
  "kernelspec": {
   "display_name": "Python 3 (ipykernel)",
   "language": "python",
   "name": "python3"
  },
  "language_info": {
   "codemirror_mode": {
    "name": "ipython",
    "version": 3
   },
   "file_extension": ".py",
   "mimetype": "text/x-python",
   "name": "python",
   "nbconvert_exporter": "python",
   "pygments_lexer": "ipython3",
   "version": "3.9.7"
  }
 },
 "nbformat": 4,
 "nbformat_minor": 5
}
